{
  "nbformat": 4,
  "nbformat_minor": 0,
  "metadata": {
    "colab": {
      "provenance": [],
      "authorship_tag": "ABX9TyPq/E2nwmdz/3kgwDVEVfrS",
      "include_colab_link": true
    },
    "kernelspec": {
      "name": "python3",
      "display_name": "Python 3"
    },
    "language_info": {
      "name": "python"
    }
  },
  "cells": [
    {
      "cell_type": "markdown",
      "metadata": {
        "id": "view-in-github",
        "colab_type": "text"
      },
      "source": [
        "<a href=\"https://colab.research.google.com/github/guilhermelaviola/ChatbotWithPython/blob/main/ChatbotWithPython.ipynb\" target=\"_parent\"><img src=\"https://colab.research.google.com/assets/colab-badge.svg\" alt=\"Open In Colab\"/></a>"
      ]
    },
    {
      "cell_type": "code",
      "execution_count": 1,
      "metadata": {
        "id": "PyF1kdlPOryi"
      },
      "outputs": [],
      "source": [
        "# Importing all the necessary libraries:\n",
        "from nltk.chat.util import Chat, reflections"
      ]
    },
    {
      "cell_type": "code",
      "source": [
        "# Creating a list of queries and their responses for the chatbot:\n",
        "pairs = [\n",
        "    [\n",
        "        r'(.*)my name is (.*)',\n",
        "        ['Hello %2, How are you today?',]\n",
        "    ],\n",
        "    [\n",
        "        r'(.*)help(.*) ',\n",
        "        ['I can help you.',]\n",
        "    ],\n",
        "     [\n",
        "        r'(.*) your name ?',\n",
        "        ['My name is Guillaume, but you can just call me robot. I am a chatbot.',]\n",
        "    ],\n",
        "    [\n",
        "        r'how are you (.*) ?',\n",
        "        ['I am doing okay, thanks for asking.', 'I am great, and you!']\n",
        "    ],\n",
        "    [\n",
        "        r'sorry (.*)',\n",
        "        ['It is alright.','It is OK, do not worry about that.',]\n",
        "    ],\n",
        "    [\n",
        "        r'I am (.*) (good|well|okay|ok)',\n",
        "        ['It is nice to hear that','Alright, that is great!',]\n",
        "    ],\n",
        "    [\n",
        "        r'(hi|hey|hello|hola|holla)(.*)',\n",
        "        ['Hello', 'Hey there',]\n",
        "    ],\n",
        "    [\n",
        "        r'what (.*) want ?',\n",
        "        ['Make me an offer I cannot refuse...',]\n",
        "\n",
        "    ],\n",
        "    [\n",
        "        r'(.*)created(.*)',\n",
        "        ['Guillaume created me using NLTK, which is a Python library.','That is a top secret...',]\n",
        "    ],\n",
        "    [\n",
        "        r'(.*) (location|city) ?',\n",
        "        ['São Paulo, Brazil.',]\n",
        "    ],\n",
        "    [\n",
        "        r'(.*)raining in (.*)',\n",
        "        ['No rain in the past 4 days here in %2.','In %2 there is a 50% chance of rain.',]\n",
        "    ],\n",
        "    [\n",
        "        r'how (.*) health (.*)',\n",
        "        ['Health is very important, but I am a computer, so I do not need to worry about my health ',]\n",
        "    ],\n",
        "    [\n",
        "        r'(.*)(sports|game|sport)(.*)',\n",
        "        ['I am a very big fan of Soccer',]\n",
        "    ],\n",
        "    [\n",
        "        r'who (.*) (Soccer player|Footballer)?',\n",
        "        ['Nicolò Barella']\n",
        "    ],\n",
        "    [\n",
        "        r'quit',\n",
        "        ['Bye for now. See you soon.','It was nice talking to you. See you soon.']\n",
        "    ],\n",
        "    [\n",
        "        r'(.*)',\n",
        "        ['That is nice to hear.']\n",
        "    ],\n",
        "]"
      ],
      "metadata": {
        "id": "5p1C3PoxROlA"
      },
      "execution_count": 5,
      "outputs": []
    },
    {
      "cell_type": "code",
      "source": [
        "# Default message at the start of the chat:\n",
        "print('Hello, I am Mr Helper and I am here to help you.\\nPlease type lowercase English language to start a conversation. Type quit to leave')\n",
        "\n",
        "# Creating the Chatbot:\n",
        "chat = Chat(pairs, reflections)\n",
        "\n",
        "# Starting the conversation:\n",
        "chat.converse()"
      ],
      "metadata": {
        "colab": {
          "base_uri": "https://localhost:8080/"
        },
        "id": "cd9T_hNwRfvs",
        "outputId": "0f74540a-83fd-47f6-f51c-c13e1398a946"
      },
      "execution_count": null,
      "outputs": [
        {
          "output_type": "stream",
          "name": "stdout",
          "text": [
            "Hello, I am Mr Helper and I am here to help you.\n",
            "Please type lowercase English language to start a conversation. Type quit to leave\n",
            ">hi\n",
            "Hey there\n",
            ">soccer\n",
            "That is nice to hear.\n",
            ">spor\n",
            "That is nice to hear.\n",
            ">sport\n",
            "I am a very big fan of Soccer\n",
            ">player\n",
            "That is nice to hear.\n",
            ">who\n",
            "That is nice to hear.\n",
            ">footballer\n",
            "That is nice to hear.\n",
            ">who is a soccer player\n",
            "Nicolò Barella\n"
          ]
        }
      ]
    }
  ]
}